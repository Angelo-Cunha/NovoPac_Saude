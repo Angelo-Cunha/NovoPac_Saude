{
 "cells": [
  {
   "cell_type": "markdown",
   "id": "e2ffd2bd",
   "metadata": {},
   "source": [
    "# Exploração de Dados do Fundo Nacional de Saúde - Novo PAC"
   ]
  },
  {
   "cell_type": "markdown",
   "id": "8dce1cb5",
   "metadata": {},
   "source": [
    "Com base nos dados de projetos selecionados para financiamento do Novo PAC, área de saúde, apresento algumas ideias de análises e explorações de dados que podem ser feitas para o Brasil, suas regiões, seus estados e municípios."
   ]
  },
  {
   "cell_type": "code",
   "execution_count": 81,
   "id": "61ddaa9d",
   "metadata": {},
   "outputs": [],
   "source": [
    "#Primeiro vamos deixar separados os pacotes que iremos utilizar ao longo da analise\n",
    "import pandas as pd\n",
    "import numpy as np\n",
    "import matplotlib.pyplot as plt\n",
    "from scipy.stats import chi2_contingency"
   ]
  },
  {
   "cell_type": "markdown",
   "id": "a5f3f0b1",
   "metadata": {},
   "source": [
    "Vamos iniciar fazendo o carregamento da planilha com os dados de financiamento dos projetos (selecionados e não selecionados)\n",
    "Aqui a planilha está no meu diretório, então, após donwload da mesma consigo usa-lá diretamente."
   ]
  },
  {
   "cell_type": "code",
   "execution_count": 16,
   "id": "aba057cb",
   "metadata": {},
   "outputs": [],
   "source": [
    "# Leitura da planilha 'financiamento_saude.xlsx'\n",
    "fns = pd.read_excel('FNS.xlsx')\n",
    "\n",
    "# Caso a planilha tivesse algumas linhas acima do nome das colunas, poderia ser adicionado na leitura o comando\n",
    "# skiprows= número de linhas que desejo pular na leitura"
   ]
  },
  {
   "cell_type": "markdown",
   "id": "653437cb",
   "metadata": {},
   "source": [
    "# Análise Exploratória Inicial"
   ]
  },
  {
   "cell_type": "markdown",
   "id": "cfbd13fb",
   "metadata": {},
   "source": [
    "Com o método info() conseguimos facilmente saber o nome de cada coluna, o número de linhas por coluna, o tipo de dado de cada uma dessas colunas e a quantidade de observação que temos. Por padrão ele tenta identificar o tipo de dado como int, float, datetime, ou object caso ele não consiga identificar o tipo exato. No final podemos observar a quantidade de memória utilizada para ler o arquivo."
   ]
  },
  {
   "cell_type": "code",
   "execution_count": 17,
   "id": "8a7db6dc",
   "metadata": {},
   "outputs": [
    {
     "name": "stdout",
     "output_type": "stream",
     "text": [
      "<class 'pandas.core.frame.DataFrame'>\n",
      "RangeIndex: 6510 entries, 0 to 6509\n",
      "Data columns (total 17 columns):\n",
      " #   Column                                      Non-Null Count  Dtype  \n",
      "---  ------                                      --------------  -----  \n",
      " 0   SECRETARIA                                  6510 non-null   object \n",
      " 1   Nº Proposta                                 6510 non-null   object \n",
      " 2   UF                                          6510 non-null   object \n",
      " 3   Municípios que receberão o investimento     6510 non-null   object \n",
      " 4   Modalidade                                  6510 non-null   object \n",
      " 5   Ente federativo proponente                  6510 non-null   object \n",
      " 6   CNPJ do Proponente                          6510 non-null   int64  \n",
      " 7   Resultado                                   6510 non-null   object \n",
      " 8   Porte / Tipo                                6510 non-null   object \n",
      " 9   Valor Investimento                          6510 non-null   float64\n",
      " 10  Quantidade de ambulâncias*                  6510 non-null   object \n",
      " 11  CNPJ Fundos de Saúde                        6510 non-null   object \n",
      " 12  Fundos de Saúde                             6510 non-null   object \n",
      " 13  Situação Emenda Parlamentar (TransfereGov)  6510 non-null   object \n",
      " 14  Nº Emenda (TransfereGov)                    6510 non-null   object \n",
      " 15  Parlamentar (TransfereGov)                  6510 non-null   object \n",
      " 16  Tipo de Emenda (TransfereGov)               6510 non-null   object \n",
      "dtypes: float64(1), int64(1), object(15)\n",
      "memory usage: 864.7+ KB\n"
     ]
    }
   ],
   "source": [
    "fns.info()"
   ]
  },
  {
   "cell_type": "code",
   "execution_count": 9,
   "id": "288dc173",
   "metadata": {},
   "outputs": [
    {
     "name": "stdout",
     "output_type": "stream",
     "text": [
      "(6510, 17)\n"
     ]
    }
   ],
   "source": [
    "#Só observando as informações, temos 6510 linhas e 17 colunas, ou podemos usar o comando:\n",
    "print(fns.shape)"
   ]
  },
  {
   "cell_type": "code",
   "execution_count": 30,
   "id": "18cab632",
   "metadata": {},
   "outputs": [
    {
     "name": "stdout",
     "output_type": "stream",
     "text": [
      "       CNPJ do Proponente  Investimento\n",
      "count        6.510000e+03  6.510000e+03\n",
      "mean         2.619810e+13  2.802497e+06\n",
      "std          2.725268e+13  1.099963e+07\n",
      "min          1.602000e+09  3.240000e+05\n",
      "25%          7.438257e+12  5.136250e+05\n",
      "50%          1.386689e+13  1.816495e+06\n",
      "75%          4.451846e+13  2.143000e+06\n",
      "max          9.866137e+13  1.530000e+08\n"
     ]
    }
   ],
   "source": [
    "# Como comando inicial podemos observar algumas estatísticas descritivas das colunas com valores númericos\n",
    "print(fns.describe())"
   ]
  },
  {
   "cell_type": "code",
   "execution_count": 8,
   "id": "275a0720",
   "metadata": {},
   "outputs": [
    {
     "name": "stdout",
     "output_type": "stream",
     "text": [
      "  SECRETARIA       Nº Proposta  UF Municípios que receberão o investimento  \\\n",
      "0       SAPS  36000000004/2023  PR                                   Fenix   \n",
      "1       SAPS  36000000023/2023  PE                         Santa Terezinha   \n",
      "2       SAPS  36000000028/2023  SP                            Taquaritinga   \n",
      "3       SAES  36000000031/2023  BA                                 Coaraci   \n",
      "4       SAPS  36000000042/2023  BA                                   Mairi   \n",
      "\n",
      "             Modalidade    Ente federativo proponente  CNPJ do Proponente  \\\n",
      "0                   UOM            Município De Fenix      76950021000130   \n",
      "1                   UOM  Município De Santa Terezinha      11358140000152   \n",
      "2                   UOM     Município De Taquaritinga      72130818000130   \n",
      "3  AMBULÂNCIAS SAMU 192          Municipio De Coaraci      14147474000175   \n",
      "4                   UOM            Município De Mairi      14212872000128   \n",
      "\n",
      "                      Resultado Porte / Tipo  Valor Investimento  \\\n",
      "0  Habilitadas não selecionadas            -            513625.0   \n",
      "1  Habilitadas não selecionadas            -            513625.0   \n",
      "2  Habilitadas não selecionadas            -            513625.0   \n",
      "3  Habilitadas não selecionadas          USB            324000.0   \n",
      "4  Habilitadas não selecionadas            -            513625.0   \n",
      "\n",
      "  Quantidade de ambulâncias* CNPJ Fundos de Saúde  \\\n",
      "0              não se aplica       09652908000154   \n",
      "1              não se aplica       12071117000145   \n",
      "2              não se aplica       11114724000182   \n",
      "3                          1       11361260000109   \n",
      "4              não se aplica       10830605000163   \n",
      "\n",
      "                       Fundos de Saúde  \\\n",
      "0    FUNDO MUNICIPAL DE SAUDE DE FENIX   \n",
      "1       FUNDO MUNICIPAL DE SAUDE - FMS   \n",
      "2             FUNDO MUNICIPAL DE SAUDE   \n",
      "3  FUNDO MUNICIPAL DE SAUDE - FUNSAUDE   \n",
      "4    FUNDO MUNICIPAL DE SAUDE DE MAIRI   \n",
      "\n",
      "  Situação Emenda Parlamentar (TransfereGov) Nº Emenda (TransfereGov)  \\\n",
      "0                                          -                        -   \n",
      "1                                          -                        -   \n",
      "2                                          -                        -   \n",
      "3                                          -                        -   \n",
      "4                                          -                        -   \n",
      "\n",
      "  Parlamentar (TransfereGov) Tipo de Emenda (TransfereGov)  \n",
      "0                          -                             -  \n",
      "1                          -                             -  \n",
      "2                          -                             -  \n",
      "3                          -                             -  \n",
      "4                          -                             -  \n"
     ]
    }
   ],
   "source": [
    "#Usamos head para vê as 5 primeiras linhas dos dados, só para observar como são os dados.\n",
    "print(fns.head())"
   ]
  },
  {
   "cell_type": "markdown",
   "id": "65e663c9",
   "metadata": {},
   "source": [
    "# Limpeza e Pré-processamento"
   ]
  },
  {
   "cell_type": "markdown",
   "id": "94ba8e30",
   "metadata": {},
   "source": [
    "Os nomes das colunas estão com espaço, o que pode ser ruim no futuro para o python conseguir fazer a leitura, vamos mudar o nome das colunas, apenas das que vamos usar"
   ]
  },
  {
   "cell_type": "code",
   "execution_count": 19,
   "id": "9b037c8b",
   "metadata": {},
   "outputs": [],
   "source": [
    "novos_nomes = {'Municípios que receberão o investimento': 'Muni', 'Valor Investimento':'Investimento',\n",
    "              'Porte / Tipo':'Tipo'}\n",
    "fns.rename(columns=novos_nomes, inplace=True)"
   ]
  },
  {
   "cell_type": "code",
   "execution_count": 20,
   "id": "d4ed7c5c",
   "metadata": {},
   "outputs": [
    {
     "name": "stdout",
     "output_type": "stream",
     "text": [
      "  SECRETARIA       Nº Proposta  UF             Muni            Modalidade  \\\n",
      "0       SAPS  36000000004/2023  PR            Fenix                   UOM   \n",
      "1       SAPS  36000000023/2023  PE  Santa Terezinha                   UOM   \n",
      "2       SAPS  36000000028/2023  SP     Taquaritinga                   UOM   \n",
      "3       SAES  36000000031/2023  BA          Coaraci  AMBULÂNCIAS SAMU 192   \n",
      "4       SAPS  36000000042/2023  BA            Mairi                   UOM   \n",
      "\n",
      "     Ente federativo proponente  CNPJ do Proponente  \\\n",
      "0            Município De Fenix      76950021000130   \n",
      "1  Município De Santa Terezinha      11358140000152   \n",
      "2     Município De Taquaritinga      72130818000130   \n",
      "3          Municipio De Coaraci      14147474000175   \n",
      "4            Município De Mairi      14212872000128   \n",
      "\n",
      "                      Resultado Tipo  Investimento Quantidade de ambulâncias*  \\\n",
      "0  Habilitadas não selecionadas    -      513625.0              não se aplica   \n",
      "1  Habilitadas não selecionadas    -      513625.0              não se aplica   \n",
      "2  Habilitadas não selecionadas    -      513625.0              não se aplica   \n",
      "3  Habilitadas não selecionadas  USB      324000.0                          1   \n",
      "4  Habilitadas não selecionadas    -      513625.0              não se aplica   \n",
      "\n",
      "  CNPJ Fundos de Saúde                      Fundos de Saúde  \\\n",
      "0       09652908000154    FUNDO MUNICIPAL DE SAUDE DE FENIX   \n",
      "1       12071117000145       FUNDO MUNICIPAL DE SAUDE - FMS   \n",
      "2       11114724000182             FUNDO MUNICIPAL DE SAUDE   \n",
      "3       11361260000109  FUNDO MUNICIPAL DE SAUDE - FUNSAUDE   \n",
      "4       10830605000163    FUNDO MUNICIPAL DE SAUDE DE MAIRI   \n",
      "\n",
      "  Situação Emenda Parlamentar (TransfereGov) Nº Emenda (TransfereGov)  \\\n",
      "0                                          -                        -   \n",
      "1                                          -                        -   \n",
      "2                                          -                        -   \n",
      "3                                          -                        -   \n",
      "4                                          -                        -   \n",
      "\n",
      "  Parlamentar (TransfereGov) Tipo de Emenda (TransfereGov)  \n",
      "0                          -                             -  \n",
      "1                          -                             -  \n",
      "2                          -                             -  \n",
      "3                          -                             -  \n",
      "4                          -                             -  \n"
     ]
    }
   ],
   "source": [
    "print(fns.head())"
   ]
  },
  {
   "cell_type": "markdown",
   "id": "2965ff30",
   "metadata": {},
   "source": [
    "Vamos criar um subconjunto dos dados do fns para ficar melhor de trabalhar. Vamos usar: UF, Muni, Modalidade, Resultado, Tipo e Investimento."
   ]
  },
  {
   "cell_type": "code",
   "execution_count": 21,
   "id": "7ac54c6c",
   "metadata": {},
   "outputs": [],
   "source": [
    "#Farei como copia, pois qualquer coisa temos nossa planilha original\n",
    "FNS = fns.copy()"
   ]
  },
  {
   "cell_type": "code",
   "execution_count": 23,
   "id": "93470f96",
   "metadata": {},
   "outputs": [],
   "source": [
    "FNS = fns[[\"UF\",\"Muni\",\"Modalidade\",\"Resultado\", \"Tipo\", \"Investimento\"]]"
   ]
  },
  {
   "cell_type": "code",
   "execution_count": 24,
   "id": "1b93d2ac",
   "metadata": {},
   "outputs": [
    {
     "name": "stdout",
     "output_type": "stream",
     "text": [
      "   UF             Muni            Modalidade                     Resultado  \\\n",
      "0  PR            Fenix                   UOM  Habilitadas não selecionadas   \n",
      "1  PE  Santa Terezinha                   UOM  Habilitadas não selecionadas   \n",
      "2  SP     Taquaritinga                   UOM  Habilitadas não selecionadas   \n",
      "3  BA          Coaraci  AMBULÂNCIAS SAMU 192  Habilitadas não selecionadas   \n",
      "4  BA            Mairi                   UOM  Habilitadas não selecionadas   \n",
      "\n",
      "  Tipo  Investimento  \n",
      "0    -      513625.0  \n",
      "1    -      513625.0  \n",
      "2    -      513625.0  \n",
      "3  USB      324000.0  \n",
      "4    -      513625.0  \n"
     ]
    }
   ],
   "source": [
    "print(FNS.head())"
   ]
  },
  {
   "cell_type": "markdown",
   "id": "009e4f90",
   "metadata": {},
   "source": [
    "# Análise Descritiva Detalhada - Brasil"
   ]
  },
  {
   "cell_type": "code",
   "execution_count": 35,
   "id": "5f664a2b",
   "metadata": {},
   "outputs": [],
   "source": [
    "#Primeiro vamos filtrar apenas os projetos selecionados\n",
    "FNS_selecionados = FNS[FNS[\"Resultado\"]== \"Habilitadas selecionadas\"]"
   ]
  },
  {
   "cell_type": "code",
   "execution_count": 36,
   "id": "e8078b68",
   "metadata": {},
   "outputs": [
    {
     "name": "stdout",
     "output_type": "stream",
     "text": [
      "      UF               Muni            Modalidade                 Resultado  \\\n",
      "3748  BA   Serra Do Ramalho                   UOM  Habilitadas selecionadas   \n",
      "3749  MG  Sao Joao Da Ponte                   UBS  Habilitadas selecionadas   \n",
      "3750  PE    Santa Terezinha  AMBULÂNCIAS SAMU 192  Habilitadas selecionadas   \n",
      "3751  BA      Nova Redencao                   UOM  Habilitadas selecionadas   \n",
      "3752  PE    Santa Terezinha                   UBS  Habilitadas selecionadas   \n",
      "...   ..                ...                   ...                       ...   \n",
      "6505  PA        Terra Santa  AMBULÂNCIAS SAMU 192  Habilitadas selecionadas   \n",
      "6506  PR       Sertanopolis                   UBS  Habilitadas selecionadas   \n",
      "6507  PA             Aveiro  AMBULÂNCIAS SAMU 192  Habilitadas selecionadas   \n",
      "6508  PA             Obidos  AMBULÂNCIAS SAMU 192  Habilitadas selecionadas   \n",
      "6509  CE            Mombaca                   UBS  Habilitadas selecionadas   \n",
      "\n",
      "     Tipo  Investimento  \n",
      "3748    -     513625.00  \n",
      "3749    I    2012825.58  \n",
      "3750  USB     324000.00  \n",
      "3751    -     513625.00  \n",
      "3752    I    1816494.57  \n",
      "...   ...           ...  \n",
      "6505  USB     324000.00  \n",
      "6506   II    2452054.40  \n",
      "6507  USB     324000.00  \n",
      "6508  USB     324000.00  \n",
      "6509    I    1816494.57  \n",
      "\n",
      "[2762 rows x 6 columns]\n"
     ]
    }
   ],
   "source": [
    "print(FNS_selecionados)"
   ]
  },
  {
   "cell_type": "code",
   "execution_count": 37,
   "id": "746797f0",
   "metadata": {},
   "outputs": [
    {
     "name": "stdout",
     "output_type": "stream",
     "text": [
      "Habilitadas selecionadas    2762\n",
      "Name: Resultado, dtype: int64\n"
     ]
    }
   ],
   "source": [
    "#Vamos contar a quantidade de projetos que foram selecionadas contando as observações da coluna \"Resultado\"\n",
    "print(FNS_selecionados['Resultado'].value_counts())"
   ]
  },
  {
   "cell_type": "code",
   "execution_count": 39,
   "id": "f35d2a97",
   "metadata": {},
   "outputs": [
    {
     "name": "stdout",
     "output_type": "stream",
     "text": [
      "Brasilia             11\n",
      "Cascavel              8\n",
      "Rondonopolis          7\n",
      "Bonito                6\n",
      "Santarem              6\n",
      "                     ..\n",
      "Irai De Minas         1\n",
      "Eldorado Do Sul       1\n",
      "Itu                   1\n",
      "Nova Bandeirantes     1\n",
      "Obidos                1\n",
      "Name: Muni, Length: 1869, dtype: int64\n"
     ]
    }
   ],
   "source": [
    "#O número de municípios que serão contemplados\n",
    "print(FNS_selecionados['Muni'].value_counts())"
   ]
  },
  {
   "cell_type": "code",
   "execution_count": 40,
   "id": "7ef52b41",
   "metadata": {},
   "outputs": [
    {
     "data": {
      "text/plain": [
       "4183045.2371722665"
      ]
     },
     "execution_count": 40,
     "metadata": {},
     "output_type": "execute_result"
    }
   ],
   "source": [
    "#Média dos Investimentos no Brasil\n",
    "np.mean(FNS_selecionados[\"Investimento\"])"
   ]
  },
  {
   "cell_type": "code",
   "execution_count": 41,
   "id": "61e44620",
   "metadata": {},
   "outputs": [
    {
     "name": "stdout",
     "output_type": "stream",
     "text": [
      "A média de Investimentos por projeto habilitade e seleionado é: 4,183,045.24\n"
     ]
    }
   ],
   "source": [
    "media_invest = np.mean(FNS_selecionados[\"Investimento\"])\n",
    "print(f\"A média de Investimentos por projeto habilitade e seleionado é: {media_invest:,.2f}\")"
   ]
  },
  {
   "cell_type": "code",
   "execution_count": 43,
   "id": "fc181b27",
   "metadata": {},
   "outputs": [
    {
     "name": "stdout",
     "output_type": "stream",
     "text": [
      "UBS                     1800\n",
      "UOM                      400\n",
      "AMBULÂNCIAS SAMU 192     237\n",
      "CAPS                     150\n",
      "POLICLÍNICA               55\n",
      "MATERNIDADE               36\n",
      "CPN                       30\n",
      "OFICINA ORTOPÉDICA        20\n",
      "CER                       20\n",
      "CRU SAMU 192              14\n",
      "Name: Modalidade, dtype: int64\n"
     ]
    }
   ],
   "source": [
    "print(FNS_selecionados['Modalidade'].value_counts())"
   ]
  },
  {
   "cell_type": "code",
   "execution_count": 45,
   "id": "e9bbad47",
   "metadata": {},
   "outputs": [],
   "source": [
    "contagem = FNS_selecionados['Modalidade'].value_counts()\n",
    "# Calcule as probabilidades dividindo as contagens pelo total de dados\n",
    "probabilidades = contagem / FNS_selecionados['Modalidade'].count()"
   ]
  },
  {
   "cell_type": "code",
   "execution_count": 48,
   "id": "43689564",
   "metadata": {},
   "outputs": [
    {
     "name": "stdout",
     "output_type": "stream",
     "text": [
      "UBS                     0.651702\n",
      "UOM                     0.144823\n",
      "AMBULÂNCIAS SAMU 192    0.085807\n",
      "CAPS                    0.054308\n",
      "POLICLÍNICA             0.019913\n",
      "MATERNIDADE             0.013034\n",
      "CPN                     0.010862\n",
      "OFICINA ORTOPÉDICA      0.007241\n",
      "CER                     0.007241\n",
      "CRU SAMU 192            0.005069\n",
      "Name: Modalidade, dtype: float64\n"
     ]
    }
   ],
   "source": [
    "print(probabilidades)"
   ]
  },
  {
   "cell_type": "markdown",
   "id": "a0a67145",
   "metadata": {},
   "source": [
    "Podemos observar que a maior parte dos investimentos é para a modalidade UBS, representando cerca de 65%"
   ]
  },
  {
   "cell_type": "code",
   "execution_count": 46,
   "id": "5e86191f",
   "metadata": {},
   "outputs": [
    {
     "data": {
      "image/png": "[encoded data removed]",
      "text/plain": [
       "<Figure size 432x288 with 1 Axes>"
      ]
     },
     "metadata": {
      "needs_background": "light"
     },
     "output_type": "display_data"
    }
   ],
   "source": [
    "# Utilize o método `plot.bar()` para criar um gráfico de barras\n",
    "probabilidades.plot.bar()\n",
    "\n",
    "# Personalize o gráfico (opcional):\n",
    "plt.xlabel('Modalidade')\n",
    "plt.ylabel('Probabilidade')\n",
    "plt.title('Distribuição de Probabilidade por Modalidade')\n",
    "plt.show()"
   ]
  },
  {
   "cell_type": "markdown",
   "id": "6a417488",
   "metadata": {},
   "source": [
    "# Análise Descritiva Detalhada - Região"
   ]
  },
  {
   "cell_type": "markdown",
   "id": "de477fa8",
   "metadata": {},
   "source": [
    "Primeiramente vamos adicionar uma coluna com as regiões, já que não temos nos dados, para isso vamos mapear a coluna UF, relacionando estado com sua região. Lembrar de colocar na planilha original, depois tiramos um subconjunto"
   ]
  },
  {
   "cell_type": "code",
   "execution_count": 50,
   "id": "8d818178",
   "metadata": {},
   "outputs": [],
   "source": [
    "mapeamento_estado_regiao = {\n",
    "    \"AC\": \"Norte\",\n",
    "    \"AL\": \"Nordeste\",\n",
    "    \"AP\": \"Norte\",\n",
    "    \"AM\": \"Norte\",\n",
    "    \"BA\": \"Nordeste\",\n",
    "    \"CE\": \"Nordeste\",\n",
    "    \"DF\": \"Centro-Oeste\",\n",
    "    \"ES\": \"Sudeste\",\n",
    "    \"GO\": \"Centro-Oeste\",\n",
    "    \"MA\": \"Nordeste\",\n",
    "    \"MT\": \"Centro-Oeste\",\n",
    "    \"MS\": \"Centro-Oeste\",\n",
    "    \"MG\": \"Sudeste\",\n",
    "    \"PA\": \"Norte\",\n",
    "    \"PB\": \"Nordeste\",\n",
    "    \"PR\": \"Sul\",\n",
    "    \"PE\": \"Nordeste\",\n",
    "    \"PI\": \"Nordeste\",\n",
    "    \"RJ\": \"Sudeste\",\n",
    "    \"RN\": \"Nordeste\",\n",
    "    \"RS\": \"Sul\",\n",
    "    \"RO\": \"Norte\",\n",
    "    \"RR\": \"Norte\",\n",
    "    \"SC\": \"Sul\",\n",
    "    \"SP\": \"Sudeste\",\n",
    "    \"SE\": \"Nordeste\",\n",
    "    \"TO\": \"Norte\"\n",
    "}"
   ]
  },
  {
   "cell_type": "code",
   "execution_count": 55,
   "id": "4b6d19b3",
   "metadata": {},
   "outputs": [],
   "source": [
    "fns[\"Região\"] = fns[\"UF\"].map(mapeamento_estado_regiao)"
   ]
  },
  {
   "cell_type": "code",
   "execution_count": 56,
   "id": "36c1af51",
   "metadata": {},
   "outputs": [
    {
     "name": "stdout",
     "output_type": "stream",
     "text": [
      "  SECRETARIA       Nº Proposta  UF             Muni            Modalidade  \\\n",
      "0       SAPS  36000000004/2023  PR            Fenix                   UOM   \n",
      "1       SAPS  36000000023/2023  PE  Santa Terezinha                   UOM   \n",
      "2       SAPS  36000000028/2023  SP     Taquaritinga                   UOM   \n",
      "3       SAES  36000000031/2023  BA          Coaraci  AMBULÂNCIAS SAMU 192   \n",
      "4       SAPS  36000000042/2023  BA            Mairi                   UOM   \n",
      "\n",
      "     Ente federativo proponente  CNPJ do Proponente  \\\n",
      "0            Município De Fenix      76950021000130   \n",
      "1  Município De Santa Terezinha      11358140000152   \n",
      "2     Município De Taquaritinga      72130818000130   \n",
      "3          Municipio De Coaraci      14147474000175   \n",
      "4            Município De Mairi      14212872000128   \n",
      "\n",
      "                      Resultado Tipo  Investimento Quantidade de ambulâncias*  \\\n",
      "0  Habilitadas não selecionadas    -      513625.0              não se aplica   \n",
      "1  Habilitadas não selecionadas    -      513625.0              não se aplica   \n",
      "2  Habilitadas não selecionadas    -      513625.0              não se aplica   \n",
      "3  Habilitadas não selecionadas  USB      324000.0                          1   \n",
      "4  Habilitadas não selecionadas    -      513625.0              não se aplica   \n",
      "\n",
      "  CNPJ Fundos de Saúde                      Fundos de Saúde  \\\n",
      "0       09652908000154    FUNDO MUNICIPAL DE SAUDE DE FENIX   \n",
      "1       12071117000145       FUNDO MUNICIPAL DE SAUDE - FMS   \n",
      "2       11114724000182             FUNDO MUNICIPAL DE SAUDE   \n",
      "3       11361260000109  FUNDO MUNICIPAL DE SAUDE - FUNSAUDE   \n",
      "4       10830605000163    FUNDO MUNICIPAL DE SAUDE DE MAIRI   \n",
      "\n",
      "  Situação Emenda Parlamentar (TransfereGov) Nº Emenda (TransfereGov)  \\\n",
      "0                                          -                        -   \n",
      "1                                          -                        -   \n",
      "2                                          -                        -   \n",
      "3                                          -                        -   \n",
      "4                                          -                        -   \n",
      "\n",
      "  Parlamentar (TransfereGov) Tipo de Emenda (TransfereGov)    Região  \n",
      "0                          -                             -       Sul  \n",
      "1                          -                             -  Nordeste  \n",
      "2                          -                             -   Sudeste  \n",
      "3                          -                             -  Nordeste  \n",
      "4                          -                             -  Nordeste  \n"
     ]
    }
   ],
   "source": [
    "print(fns.head())"
   ]
  },
  {
   "cell_type": "code",
   "execution_count": 57,
   "id": "c9781a07",
   "metadata": {},
   "outputs": [
    {
     "name": "stdout",
     "output_type": "stream",
     "text": [
      "   UF             Muni            Modalidade                     Resultado  \\\n",
      "0  PR            Fenix                   UOM  Habilitadas não selecionadas   \n",
      "1  PE  Santa Terezinha                   UOM  Habilitadas não selecionadas   \n",
      "2  SP     Taquaritinga                   UOM  Habilitadas não selecionadas   \n",
      "3  BA          Coaraci  AMBULÂNCIAS SAMU 192  Habilitadas não selecionadas   \n",
      "4  BA            Mairi                   UOM  Habilitadas não selecionadas   \n",
      "\n",
      "  Tipo  Investimento    Região  \n",
      "0    -      513625.0       Sul  \n",
      "1    -      513625.0  Nordeste  \n",
      "2    -      513625.0   Sudeste  \n",
      "3  USB      324000.0  Nordeste  \n",
      "4    -      513625.0  Nordeste  \n"
     ]
    }
   ],
   "source": [
    "FNS_Reg = fns.copy()\n",
    "FNS_Reg = fns[[\"UF\",\"Muni\",\"Modalidade\",\"Resultado\", \"Tipo\", \"Investimento\", \"Região\"]]\n",
    "print(FNS_Reg.head())"
   ]
  },
  {
   "cell_type": "code",
   "execution_count": 72,
   "id": "6548bdf6",
   "metadata": {},
   "outputs": [
    {
     "name": "stdout",
     "output_type": "stream",
     "text": [
      "Região\n",
      "Centro-Oeste    2,146,333,372.71\n",
      "Nordeste        6,243,626,333.61\n",
      "Norte           2,227,526,264.40\n",
      "Sudeste         4,987,293,588.20\n",
      "Sul             2,639,474,742.23\n",
      "Name: Investimento, dtype: object\n"
     ]
    }
   ],
   "source": [
    "# Vamos começar nossa analise com algumas estatísticas básicas por região para podermos comparar\n",
    "investimento_por_regiao = FNS_Reg.groupby('Região')['Investimento'].sum()\n",
    "investimento_por_regiao = investimento_por_regiao.apply(lambda valor: f\"{valor:,.2f}\")\n",
    "print(investimento_por_regiao)"
   ]
  },
  {
   "cell_type": "code",
   "execution_count": 73,
   "id": "79073db9",
   "metadata": {},
   "outputs": [
    {
     "name": "stdout",
     "output_type": "stream",
     "text": [
      "Região\n",
      "Centro-Oeste    3,434,133.40\n",
      "Nordeste        2,446,562.04\n",
      "Norte           3,627,892.94\n",
      "Sudeste         2,756,933.99\n",
      "Sul             2,900,521.69\n",
      "Name: Investimento, dtype: object\n"
     ]
    }
   ],
   "source": [
    "investimentomed_por_regiao = FNS_Reg.groupby('Região')['Investimento'].mean()\n",
    "investimentomed_por_regiao = investimentomed_por_regiao.apply(lambda valor: f\"{valor:,.2f}\")\n",
    "print(investimentomed_por_regiao)"
   ]
  },
  {
   "cell_type": "code",
   "execution_count": 69,
   "id": "bcf51d55",
   "metadata": {},
   "outputs": [
    {
     "name": "stdout",
     "output_type": "stream",
     "text": [
      "Recife            49\n",
      "Brasilia          27\n",
      "Porto Alegre      25\n",
      "Maceio            24\n",
      "Natal             23\n",
      "                  ..\n",
      "Curral De Cima     1\n",
      "Japoata            1\n",
      "Augustinopolis     1\n",
      "Frei Gaspar        1\n",
      "Obidos             1\n",
      "Name: Muni, Length: 3129, dtype: int64\n"
     ]
    }
   ],
   "source": [
    "quantidade_municipios_por_regiao = FNS_Reg['Muni'].value_counts()\n",
    "print(quantidade_municipios_por_regiao)"
   ]
  },
  {
   "cell_type": "code",
   "execution_count": 70,
   "id": "f3fb7651",
   "metadata": {},
   "outputs": [
    {
     "name": "stdout",
     "output_type": "stream",
     "text": [
      "Região\n",
      "Centro-Oeste     285\n",
      "Nordeste        1267\n",
      "Norte            272\n",
      "Sudeste          889\n",
      "Sul              477\n",
      "Name: Muni, dtype: int64\n"
     ]
    }
   ],
   "source": [
    "quantidade_municipios_por_regiao = FNS_Reg.groupby('Região')['Muni'].nunique()\n",
    "print(quantidade_municipios_por_regiao)"
   ]
  },
  {
   "cell_type": "code",
   "execution_count": 77,
   "id": "9ee05767",
   "metadata": {},
   "outputs": [
    {
     "name": "stdout",
     "output_type": "stream",
     "text": [
      "Região        Modalidade          \n",
      "Centro-Oeste  UBS                      275\n",
      "              UOM                      227\n",
      "              CAPS                      53\n",
      "              AMBULÂNCIAS SAMU 192      40\n",
      "              POLICLÍNICA               10\n",
      "              MATERNIDADE                7\n",
      "              CPN                        5\n",
      "              CER                        4\n",
      "              CRU SAMU 192               2\n",
      "              OFICINA ORTOPÉDICA         2\n",
      "Nordeste      UOM                     1168\n",
      "              UBS                      916\n",
      "              CAPS                     223\n",
      "              AMBULÂNCIAS SAMU 192     139\n",
      "              CER                       29\n",
      "              POLICLÍNICA               25\n",
      "              CPN                       24\n",
      "              MATERNIDADE               17\n",
      "              OFICINA ORTOPÉDICA         7\n",
      "              CRU SAMU 192               4\n",
      "Norte         UBS                      243\n",
      "              UOM                      195\n",
      "              CAPS                      95\n",
      "              AMBULÂNCIAS SAMU 192      37\n",
      "              POLICLÍNICA               12\n",
      "              CPN                       11\n",
      "              MATERNIDADE                7\n",
      "              OFICINA ORTOPÉDICA         6\n",
      "              CER                        4\n",
      "              CRU SAMU 192               4\n",
      "Sudeste       UBS                      853\n",
      "              UOM                      564\n",
      "              CAPS                     219\n",
      "              AMBULÂNCIAS SAMU 192     106\n",
      "              POLICLÍNICA               24\n",
      "              CER                       23\n",
      "              CPN                        7\n",
      "              MATERNIDADE                6\n",
      "              OFICINA ORTOPÉDICA         4\n",
      "              CRU SAMU 192               3\n",
      "Sul           UBS                      435\n",
      "              UOM                      257\n",
      "              CAPS                     114\n",
      "              AMBULÂNCIAS SAMU 192      72\n",
      "              POLICLÍNICA               17\n",
      "              CER                        8\n",
      "              MATERNIDADE                3\n",
      "              CPN                        2\n",
      "              CRU SAMU 192               1\n",
      "              OFICINA ORTOPÉDICA         1\n",
      "Name: Modalidade, dtype: int64\n"
     ]
    }
   ],
   "source": [
    "modalidade_por_regiao = FNS_Reg.groupby('Região')['Modalidade'].value_counts()\n",
    "print(modalidade_por_regiao)"
   ]
  },
  {
   "cell_type": "markdown",
   "id": "d980c276",
   "metadata": {},
   "source": [
    "Pelos dados podemos observar que a região Nordeste é a que mais vai receber UOM - Unidade Odontologica Movél e UBS - Unidade Básica de Saúde "
   ]
  },
  {
   "cell_type": "code",
   "execution_count": 84,
   "id": "2fce887e",
   "metadata": {},
   "outputs": [
    {
     "name": "stdout",
     "output_type": "stream",
     "text": [
      "Modalidade    AMBULÂNCIAS SAMU 192  CAPS  CER  CPN  CRU SAMU 192  MATERNIDADE  \\\n",
      "Região                                                                          \n",
      "Centro-Oeste                    40    53    4    5             2            7   \n",
      "Nordeste                       139   223   29   24             4           17   \n",
      "Norte                           37    95    4   11             4            7   \n",
      "Sudeste                        106   219   23    7             3            6   \n",
      "Sul                             72   114    8    2             1            3   \n",
      "\n",
      "Modalidade    OFICINA ORTOPÉDICA  POLICLÍNICA  UBS   UOM  \n",
      "Região                                                    \n",
      "Centro-Oeste                   2           10  275   227  \n",
      "Nordeste                       7           25  916  1168  \n",
      "Norte                          6           12  243   195  \n",
      "Sudeste                        4           24  853   564  \n",
      "Sul                            1           17  435   257  \n"
     ]
    }
   ],
   "source": [
    "tabela_contingencia = pd.crosstab(FNS_Reg['Região'], FNS_Reg['Modalidade'])\n",
    "print(tabela_contingencia)"
   ]
  },
  {
   "cell_type": "code",
   "execution_count": 86,
   "id": "5c91afce",
   "metadata": {
    "scrolled": true
   },
   "outputs": [
    {
     "name": "stdout",
     "output_type": "stream",
     "text": [
      "Valor de Qui-Quadrado: 226.63247918387606\n",
      "Valor p: 1.694715153772358e-29\n",
      "Graus de Liberdade: 36\n",
      "Frequências Esperadas:\n",
      "[[  37.82642089   67.58832565    6.52841782    4.70430108    1.34408602\n",
      "     3.84024578    1.92012289    8.44854071  261.32872504  231.47081413]\n",
      " [ 154.45284178  275.97665131   26.65683564   19.20860215    5.48817204\n",
      "    15.68049155    7.84024578   34.49708141 1067.05745008  945.14162826]\n",
      " [  37.16067588   66.39877112    6.41351767    4.62150538    1.32043011\n",
      "     3.77265745    1.88632873    8.29984639  256.72933948  227.3969278 ]\n",
      " [ 109.48479263  195.62764977   18.89585253   13.61612903    3.89032258\n",
      "    11.11520737    5.55760369   24.45345622  756.38986175  669.96912442]\n",
      " [  55.07526882   98.40860215    9.50537634    6.84946237    1.95698925\n",
      "     5.59139785    2.79569892   12.30107527  380.49462366  337.02150538]]\n"
     ]
    }
   ],
   "source": [
    "chi2, pval, dof, expected = chi2_contingency(tabela_contingencia)\n",
    "\n",
    "# Impressão dos resultados\n",
    "print(\"Valor de Qui-Quadrado:\", chi2)\n",
    "print(\"Valor p:\", pval)\n",
    "print(\"Graus de Liberdade:\", dof)\n",
    "print(\"Frequências Esperadas:\")\n",
    "print(expected)"
   ]
  },
  {
   "cell_type": "markdown",
   "id": "e8908e29",
   "metadata": {},
   "source": [
    "Valor de Qui-Quadrado (chi2): Quanto maior o valor de chi2, mais forte é a evidência contra a independência das variáveis.\n",
    "\n",
    "Valor p (pval): Um valor p baixo (geralmente menor que 0,05) indica que há evidências suficientes para rejeitar a hipótese nula de independência e concluir que as variáveis estão associadas.\n",
    "\n",
    "Podemos rejeitar a hipótese nula e concluir que existe uma associação significativa entre a região e a modalidade de investimento em saúde.\n",
    "\n"
   ]
  }
 ],
 "metadata": {
  "kernelspec": {
   "display_name": "Python 3 (ipykernel)",
   "language": "python",
   "name": "python3"
  },
  "language_info": {
   "codemirror_mode": {
    "name": "ipython",
    "version": 3
   },
   "file_extension": ".py",
   "mimetype": "text/x-python",
   "name": "python",
   "nbconvert_exporter": "python",
   "pygments_lexer": "ipython3",
   "version": "3.9.7"
  }
 },
 "nbformat": 4,
 "nbformat_minor": 5
}
